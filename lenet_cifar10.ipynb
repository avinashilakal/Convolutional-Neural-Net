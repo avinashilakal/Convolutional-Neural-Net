{
 "cells": [
  {
   "cell_type": "code",
   "execution_count": 1,
   "metadata": {},
   "outputs": [],
   "source": [
    "import numpy as np\n",
    "from tensorflow import keras\n",
    "import matplotlib.pyplot as plt\n",
    "import pandas as pd\n",
    "from tensorflow.keras.datasets import cifar10\n",
    "from tensorflow.keras.models import Sequential\n",
    "from tensorflow.keras.layers import Dense, Dropout\n",
    "#from tensorflow.keras.layers import BatchNormalization\n",
    "#from tensorflow.keras.optimizers import RMSprop, SGD\n",
    "#from tensorflow.keras import regularizers \n",
    "from tensorflow.keras.layers import Flatten, Conv2D, MaxPooling2D\n",
    "from tensorflow.keras.constraints import max_norm"
   ]
  },
  {
   "cell_type": "code",
   "execution_count": 2,
   "metadata": {},
   "outputs": [],
   "source": [
    "(x_train,y_train),(x_test,y_test)=cifar10.load_data()"
   ]
  },
  {
   "cell_type": "code",
   "execution_count": 3,
   "metadata": {},
   "outputs": [
    {
     "data": {
      "text/plain": [
       "(50000, 32, 32, 3)"
      ]
     },
     "execution_count": 3,
     "metadata": {},
     "output_type": "execute_result"
    }
   ],
   "source": [
    "x_train.shape"
   ]
  },
  {
   "cell_type": "code",
   "execution_count": 4,
   "metadata": {},
   "outputs": [
    {
     "data": {
      "text/plain": [
       "<matplotlib.image.AxesImage at 0x2db1991c668>"
      ]
     },
     "execution_count": 4,
     "metadata": {},
     "output_type": "execute_result"
    },
    {
     "data": {
      "image/png": "[encoded data removed]",
      "text/plain": [
       "<Figure size 432x288 with 1 Axes>"
      ]
     },
     "metadata": {
      "needs_background": "light"
     },
     "output_type": "display_data"
    }
   ],
   "source": [
    "plt.imshow(x_train[90])"
   ]
  },
  {
   "cell_type": "code",
   "execution_count": 5,
   "metadata": {},
   "outputs": [
    {
     "data": {
      "text/plain": [
       "(10000, 1)"
      ]
     },
     "execution_count": 5,
     "metadata": {},
     "output_type": "execute_result"
    }
   ],
   "source": [
    "y_test.shape"
   ]
  },
  {
   "cell_type": "code",
   "execution_count": 6,
   "metadata": {},
   "outputs": [],
   "source": [
    "x_train=x_train.reshape(50000, 32,32,3)\n",
    "x_test=x_test.reshape(10000,32, 32,3)"
   ]
  },
  {
   "cell_type": "code",
   "execution_count": 7,
   "metadata": {},
   "outputs": [
    {
     "data": {
      "text/plain": [
       "(50000, 32, 32, 3)"
      ]
     },
     "execution_count": 7,
     "metadata": {},
     "output_type": "execute_result"
    }
   ],
   "source": [
    "x_train.shape"
   ]
  },
  {
   "cell_type": "code",
   "execution_count": 8,
   "metadata": {},
   "outputs": [],
   "source": [
    "x_train=x_train/255\n",
    "x_test=x_test/255"
   ]
  },
  {
   "cell_type": "code",
   "execution_count": 9,
   "metadata": {},
   "outputs": [
    {
     "data": {
      "text/plain": [
       "array([1])"
      ]
     },
     "execution_count": 9,
     "metadata": {},
     "output_type": "execute_result"
    }
   ],
   "source": [
    "y_test[9]"
   ]
  },
  {
   "cell_type": "code",
   "execution_count": 10,
   "metadata": {},
   "outputs": [],
   "source": [
    "classes=10\n",
    "y_train=keras.utils.to_categorical(y_train,classes)\n",
    "y_test=keras.utils.to_categorical(y_test,classes)"
   ]
  },
  {
   "cell_type": "code",
   "execution_count": 11,
   "metadata": {},
   "outputs": [
    {
     "data": {
      "text/plain": [
       "array([0., 0., 0., 1., 0., 0., 0., 0., 0., 0.], dtype=float32)"
      ]
     },
     "execution_count": 11,
     "metadata": {},
     "output_type": "execute_result"
    }
   ],
   "source": [
    "y_test[68]"
   ]
  },
  {
   "cell_type": "code",
   "execution_count": 12,
   "metadata": {},
   "outputs": [],
   "source": [
    "model = Sequential()\n",
    "model.add(Conv2D(32, kernel_size=(3, 3), activation='relu', input_shape=(32, 32, 3)))\n",
    "model.add(Conv2D(64, kernel_size=(3, 3), activation='relu'))\n",
    "model.add(MaxPooling2D(pool_size=(2, 2)))\n",
    "model.add(Dropout(0.25))\n",
    "model.add(Flatten())\n",
    "model.add(Dense(128, activation='relu'))\n",
    "model.add(Dropout(0.5))\n",
    "model.add(Dense(classes, activation='softmax'))"
   ]
  },
  {
   "cell_type": "code",
   "execution_count": 13,
   "metadata": {},
   "outputs": [
    {
     "name": "stdout",
     "output_type": "stream",
     "text": [
      "_________________________________________________________________\n",
      "Layer (type)                 Output Shape              Param #   \n",
      "=================================================================\n",
      "conv2d (Conv2D)              (None, 30, 30, 32)        896       \n",
      "_________________________________________________________________\n",
      "conv2d_1 (Conv2D)            (None, 28, 28, 64)        18496     \n",
      "_________________________________________________________________\n",
      "max_pooling2d (MaxPooling2D) (None, 14, 14, 64)        0         \n",
      "_________________________________________________________________\n",
      "dropout (Dropout)            (None, 14, 14, 64)        0         \n",
      "_________________________________________________________________\n",
      "flatten (Flatten)            (None, 12544)             0         \n",
      "_________________________________________________________________\n",
      "dense (Dense)                (None, 128)               1605760   \n",
      "_________________________________________________________________\n",
      "dropout_1 (Dropout)          (None, 128)               0         \n",
      "_________________________________________________________________\n",
      "dense_1 (Dense)              (None, 10)                1290      \n",
      "=================================================================\n",
      "Total params: 1,626,442\n",
      "Trainable params: 1,626,442\n",
      "Non-trainable params: 0\n",
      "_________________________________________________________________\n"
     ]
    }
   ],
   "source": [
    "model.summary()"
   ]
  },
  {
   "cell_type": "code",
   "execution_count": 14,
   "metadata": {},
   "outputs": [],
   "source": [
    "model.compile(loss='categorical_crossentropy',optimizer='adam',metrics=['accuracy'])"
   ]
  },
  {
   "cell_type": "code",
   "execution_count": 15,
   "metadata": {},
   "outputs": [
    {
     "name": "stdout",
     "output_type": "stream",
     "text": [
      "Train on 50000 samples, validate on 10000 samples\n",
      "Epoch 1/50\n",
      "50000/50000 [==============================] - 584s 12ms/step - loss: 1.6063 - acc: 0.4171 - val_loss: 1.2730 - val_acc: 0.5644\n",
      "Epoch 2/50\n",
      "50000/50000 [==============================] - 552s 11ms/step - loss: 1.2919 - acc: 0.5396 - val_loss: 1.1362 - val_acc: 0.6070\n",
      "Epoch 3/50\n",
      "50000/50000 [==============================] - 543s 11ms/step - loss: 1.1815 - acc: 0.5830 - val_loss: 1.0092 - val_acc: 0.6521\n",
      "Epoch 4/50\n",
      "50000/50000 [==============================] - 706s 14ms/step - loss: 1.1107 - acc: 0.6070 - val_loss: 0.9719 - val_acc: 0.6592\n",
      "Epoch 5/50\n",
      "50000/50000 [==============================] - 565s 11ms/step - loss: 1.0473 - acc: 0.6294 - val_loss: 0.9486 - val_acc: 0.6673\n",
      "Epoch 6/50\n",
      "50000/50000 [==============================] - 563s 11ms/step - loss: 0.9936 - acc: 0.6488 - val_loss: 0.9149 - val_acc: 0.6785\n",
      "Epoch 7/50\n",
      "50000/50000 [==============================] - 584s 12ms/step - loss: 0.9414 - acc: 0.6671 - val_loss: 0.9093 - val_acc: 0.6744\n",
      "Epoch 8/50\n",
      "50000/50000 [==============================] - 564s 11ms/step - loss: 0.8963 - acc: 0.6827 - val_loss: 0.8962 - val_acc: 0.6842\n",
      "Epoch 9/50\n",
      "50000/50000 [==============================] - 576s 12ms/step - loss: 0.8595 - acc: 0.6947 - val_loss: 0.9027 - val_acc: 0.6892\n",
      "Epoch 10/50\n",
      "50000/50000 [==============================] - 695s 14ms/step - loss: 0.8232 - acc: 0.7045 - val_loss: 0.8787 - val_acc: 0.6981\n",
      "Epoch 11/50\n",
      "50000/50000 [==============================] - 542s 11ms/step - loss: 0.7913 - acc: 0.7169 - val_loss: 0.8650 - val_acc: 0.7070\n",
      "Epoch 12/50\n",
      "50000/50000 [==============================] - 536s 11ms/step - loss: 0.7557 - acc: 0.7285 - val_loss: 0.8780 - val_acc: 0.7009\n",
      "Epoch 13/50\n",
      "50000/50000 [==============================] - 3704s 74ms/step - loss: 0.7286 - acc: 0.7363 - val_loss: 0.8736 - val_acc: 0.7057\n",
      "Epoch 14/50\n",
      "50000/50000 [==============================] - 28225s 564ms/step - loss: 0.7130 - acc: 0.7439 - val_loss: 0.8757 - val_acc: 0.7089\n",
      "Epoch 15/50\n",
      "50000/50000 [==============================] - 503s 10ms/step - loss: 0.6812 - acc: 0.7553 - val_loss: 0.8819 - val_acc: 0.7006\n",
      "Epoch 16/50\n",
      "50000/50000 [==============================] - 296s 6ms/step - loss: 0.6600 - acc: 0.7621 - val_loss: 0.8857 - val_acc: 0.7007\n",
      "Epoch 17/50\n",
      "50000/50000 [==============================] - 292s 6ms/step - loss: 0.6499 - acc: 0.7661 - val_loss: 0.8936 - val_acc: 0.7068\n",
      "Epoch 18/50\n",
      "50000/50000 [==============================] - 291s 6ms/step - loss: 0.6277 - acc: 0.7724 - val_loss: 0.9062 - val_acc: 0.6990\n",
      "Epoch 19/50\n",
      "50000/50000 [==============================] - 291s 6ms/step - loss: 0.6024 - acc: 0.7791 - val_loss: 0.8948 - val_acc: 0.7086\n",
      "Epoch 20/50\n",
      "50000/50000 [==============================] - 285s 6ms/step - loss: 0.5961 - acc: 0.7830 - val_loss: 0.9002 - val_acc: 0.7134\n",
      "Epoch 21/50\n",
      "50000/50000 [==============================] - 287s 6ms/step - loss: 0.5798 - acc: 0.7879 - val_loss: 0.9222 - val_acc: 0.7056\n",
      "Epoch 22/50\n",
      "50000/50000 [==============================] - 301s 6ms/step - loss: 0.5651 - acc: 0.7929 - val_loss: 0.9199 - val_acc: 0.7029\n",
      "Epoch 23/50\n",
      "50000/50000 [==============================] - 293s 6ms/step - loss: 0.5495 - acc: 0.7980 - val_loss: 0.9354 - val_acc: 0.7075\n",
      "Epoch 24/50\n",
      "50000/50000 [==============================] - 289s 6ms/step - loss: 0.5442 - acc: 0.7992 - val_loss: 0.9233 - val_acc: 0.7060\n",
      "Epoch 25/50\n",
      "50000/50000 [==============================] - 285s 6ms/step - loss: 0.5298 - acc: 0.8046 - val_loss: 0.9443 - val_acc: 0.7120\n",
      "Epoch 26/50\n",
      "50000/50000 [==============================] - 289s 6ms/step - loss: 0.5221 - acc: 0.8070 - val_loss: 0.9299 - val_acc: 0.7067\n",
      "Epoch 27/50\n",
      "50000/50000 [==============================] - 299s 6ms/step - loss: 0.5082 - acc: 0.8124 - val_loss: 0.9483 - val_acc: 0.7097\n",
      "Epoch 28/50\n",
      "50000/50000 [==============================] - 295s 6ms/step - loss: 0.5039 - acc: 0.8147 - val_loss: 0.9350 - val_acc: 0.7103\n",
      "Epoch 29/50\n",
      "50000/50000 [==============================] - 296s 6ms/step - loss: 0.4885 - acc: 0.8204 - val_loss: 0.9356 - val_acc: 0.7160\n",
      "Epoch 30/50\n",
      "50000/50000 [==============================] - 290s 6ms/step - loss: 0.4856 - acc: 0.8217 - val_loss: 0.9587 - val_acc: 0.7186\n",
      "Epoch 31/50\n",
      "50000/50000 [==============================] - 290s 6ms/step - loss: 0.4810 - acc: 0.8218 - val_loss: 0.9938 - val_acc: 0.7147\n",
      "Epoch 32/50\n",
      "50000/50000 [==============================] - 289s 6ms/step - loss: 0.4670 - acc: 0.8285 - val_loss: 0.9733 - val_acc: 0.7085\n",
      "Epoch 33/50\n",
      "50000/50000 [==============================] - 289s 6ms/step - loss: 0.4620 - acc: 0.8303 - val_loss: 0.9702 - val_acc: 0.7124\n",
      "Epoch 34/50\n",
      "50000/50000 [==============================] - 293s 6ms/step - loss: 0.4609 - acc: 0.8284 - val_loss: 0.9803 - val_acc: 0.7141\n",
      "Epoch 35/50\n",
      "50000/50000 [==============================] - 294s 6ms/step - loss: 0.4458 - acc: 0.8353 - val_loss: 1.0016 - val_acc: 0.7128\n",
      "Epoch 36/50\n",
      "50000/50000 [==============================] - 308s 6ms/step - loss: 0.4474 - acc: 0.8361 - val_loss: 0.9836 - val_acc: 0.7142\n",
      "Epoch 37/50\n",
      "50000/50000 [==============================] - 310s 6ms/step - loss: 0.4402 - acc: 0.8373 - val_loss: 0.9664 - val_acc: 0.7086\n",
      "Epoch 38/50\n",
      "50000/50000 [==============================] - 308s 6ms/step - loss: 0.4358 - acc: 0.8395 - val_loss: 0.9984 - val_acc: 0.7149\n",
      "Epoch 39/50\n",
      "50000/50000 [==============================] - 295s 6ms/step - loss: 0.4314 - acc: 0.8422 - val_loss: 1.0328 - val_acc: 0.7110\n",
      "Epoch 40/50\n",
      "50000/50000 [==============================] - 291s 6ms/step - loss: 0.4233 - acc: 0.8437 - val_loss: 1.0206 - val_acc: 0.7121\n",
      "Epoch 41/50\n",
      "50000/50000 [==============================] - 303s 6ms/step - loss: 0.4158 - acc: 0.8470 - val_loss: 1.0145 - val_acc: 0.7101\n",
      "Epoch 42/50\n",
      "50000/50000 [==============================] - 292s 6ms/step - loss: 0.4178 - acc: 0.8451 - val_loss: 1.0364 - val_acc: 0.7106\n",
      "Epoch 43/50\n",
      "50000/50000 [==============================] - 290s 6ms/step - loss: 0.4069 - acc: 0.8493 - val_loss: 1.0336 - val_acc: 0.7106\n",
      "Epoch 44/50\n",
      "50000/50000 [==============================] - 287s 6ms/step - loss: 0.4096 - acc: 0.8493 - val_loss: 1.0001 - val_acc: 0.7071\n",
      "Epoch 45/50\n",
      "50000/50000 [==============================] - 287s 6ms/step - loss: 0.4031 - acc: 0.8520 - val_loss: 1.0410 - val_acc: 0.7130\n",
      "Epoch 46/50\n",
      "50000/50000 [==============================] - 286s 6ms/step - loss: 0.3992 - acc: 0.8527 - val_loss: 1.0275 - val_acc: 0.7096\n",
      "Epoch 47/50\n",
      "50000/50000 [==============================] - 487s 10ms/step - loss: 0.3909 - acc: 0.8563 - val_loss: 1.0248 - val_acc: 0.7130\n",
      "Epoch 48/50\n",
      "50000/50000 [==============================] - 296s 6ms/step - loss: 0.3823 - acc: 0.8607 - val_loss: 1.0635 - val_acc: 0.7062\n",
      "Epoch 49/50\n",
      "50000/50000 [==============================] - 296s 6ms/step - loss: 0.3860 - acc: 0.8576 - val_loss: 1.0544 - val_acc: 0.7095\n",
      "Epoch 50/50\n",
      "50000/50000 [==============================] - 300s 6ms/step - loss: 0.3846 - acc: 0.8594 - val_loss: 1.0443 - val_acc: 0.7107\n"
     ]
    },
    {
     "data": {
      "text/plain": [
       "<tensorflow.python.keras.callbacks.History at 0x2db1999da90>"
      ]
     },
     "execution_count": 15,
     "metadata": {},
     "output_type": "execute_result"
    }
   ],
   "source": [
    "model.fit(x_train,y_train,batch_size=64,epochs=50,verbose=1,validation_data=(x_test,y_test))"
   ]
  },
  {
   "cell_type": "code",
   "execution_count": null,
   "metadata": {},
   "outputs": [],
   "source": []
  }
 ],
 "metadata": {
  "kernelspec": {
   "display_name": "Python 3",
   "language": "python",
   "name": "python3"
  },
  "language_info": {
   "codemirror_mode": {
    "name": "ipython",
    "version": 3
   },
   "file_extension": ".py",
   "mimetype": "text/x-python",
   "name": "python",
   "nbconvert_exporter": "python",
   "pygments_lexer": "ipython3",
   "version": "3.6.7"
  }
 },
 "nbformat": 4,
 "nbformat_minor": 2
}
